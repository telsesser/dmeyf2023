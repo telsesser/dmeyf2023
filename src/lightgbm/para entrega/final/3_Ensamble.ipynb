{
  "cells": [
    {
      "cell_type": "code",
      "execution_count": null,
      "metadata": {
        "id": "IMiwoVIkDVAo"
      },
      "outputs": [],
      "source": [
        "import duckdb\n",
        "import pandas as pd\n",
        "from google.cloud import storage\n",
        "from google.colab import auth\n",
        "auth.authenticate_user()\n"
      ]
    },
    {
      "cell_type": "code",
      "execution_count": null,
      "metadata": {
        "id": "GpPwLSVdN2Iz"
      },
      "outputs": [],
      "source": [
        "goss_1_bjas2 = pd.read_csv('gs://buk-tlsssr-dmeyf/exp/entrega3_goss_1_bjas2/entrega3_goss_1_bjas2_predicciones.csv')\n",
        "goss_1_bjas1 = pd.read_csv('gs://buk-tlsssr-dmeyf/exp/entrega3_goss_1_bjas1/entrega3_goss_1_bjas1_predicciones.csv')\n",
        "goss_2_bjas2 = pd.read_csv('gs://buk-tlsssr-dmeyf/exp/entrega3_goss_2_bjas2/entrega3_goss_2_bjas2_predicciones.csv')\n",
        "sinLags_1_bjas1 = pd.read_csv('gs://buk-tlsssr-dmeyf/exp/entrega3_sinLags_1_bjas1/entrega3_sinLags_1_bjas1_predicciones.csv')\n",
        "sinLags_1_bjas2 = pd.read_csv('gs://buk-tlsssr-dmeyf/exp/entrega3_sinLags_1_bjas2/entrega3_sinLags_1_bjas2_predicciones.csv')"
      ]
    },
    {
      "cell_type": "code",
      "execution_count": null,
      "metadata": {
        "colab": {
          "base_uri": "https://localhost:8080/",
          "height": 512
        },
        "id": "5AvgmQtLOXYP",
        "outputId": "6c46dc7c-2ba1-4bfc-cea4-10ce7c3edc01"
      },
      "outputs": [],
      "source": [
        "datasets_list = [goss_1_bjas2, sinLags_1_bjas1, sinLags_1_bjas2, goss_1_bjas1,  goss_2_bjas2]\n",
        "names = ['goss_1_bjas2', 'sinLags_1_bjas1', 'sinLags_1_bjas2', 'goss_1_bjas1',  'goss_2_bjas2']\n",
        "\n",
        "result_df = datasets_list[0][['numero_de_cliente', 'foto_mes']].copy()\n",
        "\n",
        "for i, df in enumerate(datasets_list):\n",
        "    result_df = pd.merge(result_df, df[['numero_de_cliente', 'foto_mes', 'pred_11']], on=['numero_de_cliente', 'foto_mes'])\n",
        "    result_df.rename(columns={'pred_11': names[i]}, inplace=True)\n",
        "\n",
        "result_df['p_final'] =( 0.0667 * result_df['sinLags_1_bjas1'] + 0.2444 * result_df['sinLags_1_bjas2']\n",
        "                         +  0.2444 * result_df['goss_1_bjas1']) + 0.3333 * result_df['goss_1_bjas2'] + 0.1111 *result_df['goss_2_bjas2']"
      ]
    },
    {
      "cell_type": "code",
      "execution_count": null,
      "metadata": {
        "id": "6UI7hIfmOk1g"
      },
      "outputs": [],
      "source": [
        "import numpy as np\n",
        "\n",
        "entrega = result_df[['numero_de_cliente', 'p_final']].sort_values(by='p_final', ascending=False).reset_index(drop=True)\n",
        "entrega['Predicted'] = np.where(entrega.index < 11500, 1, 0)\n",
        "entrega = entrega[['numero_de_cliente', 'Predicted']]\n",
        "entrega.to_csv('entrega_goss1_bjas2_12500.csv', index=False)"
      ]
    }
  ],
  "metadata": {
    "colab": {
      "provenance": []
    },
    "kernelspec": {
      "display_name": "Python 3",
      "language": "python",
      "name": "python3"
    },
    "language_info": {
      "codemirror_mode": {
        "name": "ipython",
        "version": 3
      },
      "file_extension": ".py",
      "mimetype": "text/x-python",
      "name": "python",
      "nbconvert_exporter": "python",
      "pygments_lexer": "ipython3",
      "version": "3.10.12"
    }
  },
  "nbformat": 4,
  "nbformat_minor": 0
}
